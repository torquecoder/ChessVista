{
 "cells": [
  {
   "cell_type": "code",
   "execution_count": null,
   "metadata": {
    "collapsed": true
   },
   "outputs": [],
   "source": [
    "# To filter unwanted TensorFlow warnings\n",
    "import os\n",
    "os.environ['TF_CPP_MIN_LOG_LEVEL'] = '2'\n",
    "\n",
    "import tensorflow as tf\n",
    "import numpy as np\n",
    "\n",
    "# Whether or not suppress printing of small floating point values using scientific notation\n",
    "np.set_printoptions(suppress = True)\n",
    "\n",
    "# Enter an interactive TensorFlow Session.\n",
    "sess = tf.InteractiveSession()\n",
    "\n",
    "# Import for visualization\n",
    "import PIL.Image\n",
    "from io import BytesIO   #This module implements a file-like class, StringIO, that reads and writes a string buffer\n",
    "from IPython.display import clear_output, Image, display\n",
    "\n",
    "\n",
    "# Display an array as a picture\n",
    "def display_array(a, format = 'jpeg', rng = [0, 1]):\n",
    "    a = (a - rng[0]) / float(rng[1] - rng[0]) * 255\n",
    "    a = np.uint8(np.clip(a, 0, 255))\n",
    "    file = BytesIO()\n",
    "    PIL.Image.fromarray(a).save(file, format)\n",
    "    display(Image(data = file.getvalue()))\n",
    "\n",
    "img_file = 'chess_board.png'\n",
    "\n",
    "folder = \".\"\n",
    "\n",
    "img = PIL.Image.open(\"%s/%s\" % (folder,img_file))\n",
    "\n",
    "print (\"Loaded %s (%dpx x %dpx)\" % (img_file, img.size[0], img.size[1]))\n",
    "\n",
    "# Resize if image larger than 2000 pixels on a side\n",
    "if img.size[0] > 2000 or img.size[1] > 2000:\n",
    "    print (\"Image too big (%d x %d)\" % (img.size[0], img.size[1]))\n",
    "    new_size = 500.0  # px\n",
    "    if img.size[0] > img.size[1]:\n",
    "        # resize by width to new limit\n",
    "        ratio = new_size / img.size[0]\n",
    "    else:\n",
    "        # resize by height\n",
    "        ratio = new_size / img.size[1]\n",
    "    print (\"Reducing by factor of %.2g\" % (1. / ratio))\n",
    "    img = img.resize(img.size * ratio, PIL.Image.ADAPTIVE)\n",
    "    print (\"New size: (%d x %d)\" % (img.size[0], img.size[1]))\n",
    "\n",
    "# See original image\n",
    "display_array(np.asarray(img), rng = [0,255])\n"
   ]
  }
 ],
 "metadata": {
  "kernelspec": {
   "display_name": "Python 3",
   "language": "python",
   "name": "python3"
  },
  "language_info": {
   "codemirror_mode": {
    "name": "ipython",
    "version": 3
   },
   "file_extension": ".py",
   "mimetype": "text/x-python",
   "name": "python",
   "nbconvert_exporter": "python",
   "pygments_lexer": "ipython3",
   "version": "3.6.0"
  }
 },
 "nbformat": 4,
 "nbformat_minor": 2
}
