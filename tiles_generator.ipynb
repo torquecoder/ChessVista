{
 "cells": [
  {
   "cell_type": "code",
   "execution_count": 1,
   "metadata": {},
   "outputs": [
    {
     "name": "stdout",
     "output_type": "stream",
     "text": [
      "0 80\n",
      "0 80\n",
      "0 80\n",
      "0 80\n",
      "X [ 676  756  836  916  996 1076 1156] [80 80 80 80 80 80]\n",
      "Y [273 353 433 513 593 673 753] [80 80 80 80 80 80]\n",
      "Chessboard found\n",
      "X   (vertical) [ 676  756  836  916  996 1076 1156] [80 80 80 80 80 80]\n",
      "Y (horizontal) [273 353 433 513 593 673 753] [80 80 80 80 80 80]\n",
      "7 horizontal and vertical lines found, slicing up squares\n",
      "Tiles generated: (80x80)*64\n",
      "Order is row-wise from top left of image going right and down, so a8,b8....a7,b7,c7...h1\n",
      "Showing 5 random squares...\n",
      "#20: E3\n"
     ]
    },
    {
     "data": {
      "image/jpeg": "[encoded data removed]",
      "text/plain": [
       "<IPython.core.display.Image object>"
      ]
     },
     "metadata": {},
     "output_type": "display_data"
    },
    {
     "name": "stdout",
     "output_type": "stream",
     "text": [
      "#8: A2\n"
     ]
    },
    {
     "data": {
      "image/jpeg": "[encoded data removed]",
      "text/plain": [
       "<IPython.core.display.Image object>"
      ]
     },
     "metadata": {},
     "output_type": "display_data"
    },
    {
     "name": "stdout",
     "output_type": "stream",
     "text": [
      "#28: E4\n"
     ]
    },
    {
     "data": {
      "image/jpeg": "[encoded data removed]",
      "text/plain": [
       "<IPython.core.display.Image object>"
      ]
     },
     "metadata": {},
     "output_type": "display_data"
    },
    {
     "name": "stdout",
     "output_type": "stream",
     "text": [
      "#6: G1\n"
     ]
    },
    {
     "data": {
      "image/jpeg": "[encoded data removed]",
      "text/plain": [
       "<IPython.core.display.Image object>"
      ]
     },
     "metadata": {},
     "output_type": "display_data"
    },
    {
     "name": "stdout",
     "output_type": "stream",
     "text": [
      "#47: H6\n"
     ]
    },
    {
     "data": {
      "image/jpeg": "[encoded data removed]",
      "text/plain": [
       "<IPython.core.display.Image object>"
      ]
     },
     "metadata": {},
     "output_type": "display_data"
    },
    {
     "name": "stdout",
     "output_type": "stream",
     "text": [
      "Created dir training_tiles/squares_board004\n",
      "#0: saving training_tiles/squares_board004/board004_A1.png...\n",
      "#8: saving training_tiles/squares_board004/board004_A2.png...\n",
      "#16: saving training_tiles/squares_board004/board004_A3.png...\n",
      "#24: saving training_tiles/squares_board004/board004_A4.png...\n",
      "#32: saving training_tiles/squares_board004/board004_A5.png...\n",
      "#40: saving training_tiles/squares_board004/board004_A6.png...\n",
      "#48: saving training_tiles/squares_board004/board004_A7.png...\n",
      "#56: saving training_tiles/squares_board004/board004_A8.png...\n",
      "0 80\n",
      "0 80\n",
      "0 80\n",
      "0 80\n",
      "X [ 676  756  836  916  996 1076 1156] [80 80 80 80 80 80]\n",
      "Y [273 353 433 513 593 673 753] [80 80 80 80 80 80]\n",
      "Chessboard found\n",
      "X   (vertical) [ 676  756  836  916  996 1076 1156] [80 80 80 80 80 80]\n",
      "Y (horizontal) [273 353 433 513 593 673 753] [80 80 80 80 80 80]\n",
      "7 horizontal and vertical lines found, slicing up squares\n",
      "Tiles generated: (80x80)*64\n",
      "Order is row-wise from top left of image going right and down, so a8,b8....a7,b7,c7...h1\n",
      "Showing 5 random squares...\n",
      "#8: A2\n"
     ]
    },
    {
     "data": {
      "image/jpeg": "[encoded data removed]",
      "text/plain": [
       "<IPython.core.display.Image object>"
      ]
     },
     "metadata": {},
     "output_type": "display_data"
    },
    {
     "name": "stdout",
     "output_type": "stream",
     "text": [
      "#33: B5\n"
     ]
    },
    {
     "data": {
      "image/jpeg": "[encoded data removed]",
      "text/plain": [
       "<IPython.core.display.Image object>"
      ]
     },
     "metadata": {},
     "output_type": "display_data"
    },
    {
     "name": "stdout",
     "output_type": "stream",
     "text": [
      "#7: H1\n"
     ]
    },
    {
     "data": {
      "image/jpeg": "[encoded data removed]",
      "text/plain": [
       "<IPython.core.display.Image object>"
      ]
     },
     "metadata": {},
     "output_type": "display_data"
    },
    {
     "name": "stdout",
     "output_type": "stream",
     "text": [
      "#25: B4\n"
     ]
    },
    {
     "data": {
      "image/jpeg": "[encoded data removed]",
      "text/plain": [
       "<IPython.core.display.Image object>"
      ]
     },
     "metadata": {},
     "output_type": "display_data"
    },
    {
     "name": "stdout",
     "output_type": "stream",
     "text": [
      "#18: C3\n"
     ]
    },
    {
     "data": {
      "image/jpeg": "[encoded data removed]",
      "text/plain": [
       "<IPython.core.display.Image object>"
      ]
     },
     "metadata": {},
     "output_type": "display_data"
    },
    {
     "name": "stdout",
     "output_type": "stream",
     "text": [
      "Created dir training_tiles/squares_board005\n",
      "#0: saving training_tiles/squares_board005/board005_A1.png...\n",
      "#8: saving training_tiles/squares_board005/board005_A2.png...\n",
      "#16: saving training_tiles/squares_board005/board005_A3.png...\n",
      "#24: saving training_tiles/squares_board005/board005_A4.png...\n",
      "#32: saving training_tiles/squares_board005/board005_A5.png...\n",
      "#40: saving training_tiles/squares_board005/board005_A6.png...\n",
      "#48: saving training_tiles/squares_board005/board005_A7.png...\n",
      "#56: saving training_tiles/squares_board005/board005_A8.png...\n",
      "0 80\n",
      "0 80\n",
      "0 80\n",
      "0 80\n",
      "X [ 676  756  836  916  996 1076 1156] [80 80 80 80 80 80]\n",
      "Y [273 353 433 513 593 673 753] [80 80 80 80 80 80]\n",
      "Chessboard found\n",
      "X   (vertical) [ 676  756  836  916  996 1076 1156] [80 80 80 80 80 80]\n",
      "Y (horizontal) [273 353 433 513 593 673 753] [80 80 80 80 80 80]\n",
      "7 horizontal and vertical lines found, slicing up squares\n",
      "Tiles generated: (80x80)*64\n",
      "Order is row-wise from top left of image going right and down, so a8,b8....a7,b7,c7...h1\n",
      "Showing 5 random squares...\n",
      "#60: E8\n"
     ]
    },
    {
     "data": {
      "image/jpeg": "[encoded data removed]",
      "text/plain": [
       "<IPython.core.display.Image object>"
      ]
     },
     "metadata": {},
     "output_type": "display_data"
    },
    {
     "name": "stdout",
     "output_type": "stream",
     "text": [
      "#22: G3\n"
     ]
    },
    {
     "data": {
      "image/jpeg": "[encoded data removed]",
      "text/plain": [
       "<IPython.core.display.Image object>"
      ]
     },
     "metadata": {},
     "output_type": "display_data"
    },
    {
     "name": "stdout",
     "output_type": "stream",
     "text": [
      "#37: F5\n"
     ]
    },
    {
     "data": {
      "image/jpeg": "[encoded data removed]",
      "text/plain": [
       "<IPython.core.display.Image object>"
      ]
     },
     "metadata": {},
     "output_type": "display_data"
    },
    {
     "name": "stdout",
     "output_type": "stream",
     "text": [
      "#44: E6\n"
     ]
    },
    {
     "data": {
      "image/jpeg": "[encoded data removed]",
      "text/plain": [
       "<IPython.core.display.Image object>"
      ]
     },
     "metadata": {},
     "output_type": "display_data"
    },
    {
     "name": "stdout",
     "output_type": "stream",
     "text": [
      "#43: D6\n"
     ]
    },
    {
     "data": {
      "image/jpeg": "[encoded data removed]",
      "text/plain": [
       "<IPython.core.display.Image object>"
      ]
     },
     "metadata": {},
     "output_type": "display_data"
    },
    {
     "name": "stdout",
     "output_type": "stream",
     "text": [
      "Created dir training_tiles/squares_board002\n",
      "#0: saving training_tiles/squares_board002/board002_A1.png...\n",
      "#8: saving training_tiles/squares_board002/board002_A2.png...\n",
      "#16: saving training_tiles/squares_board002/board002_A3.png...\n",
      "#24: saving training_tiles/squares_board002/board002_A4.png...\n",
      "#32: saving training_tiles/squares_board002/board002_A5.png...\n",
      "#40: saving training_tiles/squares_board002/board002_A6.png...\n",
      "#48: saving training_tiles/squares_board002/board002_A7.png...\n",
      "#56: saving training_tiles/squares_board002/board002_A8.png...\n",
      "0 80\n",
      "0 80\n",
      "0 80\n",
      "0 80\n",
      "X [ 676  756  836  916  996 1076 1156] [80 80 80 80 80 80]\n",
      "Y [273 353 433 513 593 673 753] [80 80 80 80 80 80]\n",
      "Chessboard found\n",
      "X   (vertical) [ 676  756  836  916  996 1076 1156] [80 80 80 80 80 80]\n",
      "Y (horizontal) [273 353 433 513 593 673 753] [80 80 80 80 80 80]\n",
      "7 horizontal and vertical lines found, slicing up squares\n",
      "Tiles generated: (80x80)*64\n",
      "Order is row-wise from top left of image going right and down, so a8,b8....a7,b7,c7...h1\n",
      "Showing 5 random squares...\n",
      "#45: F6\n"
     ]
    },
    {
     "data": {
      "image/jpeg": "[encoded data removed]",
      "text/plain": [
       "<IPython.core.display.Image object>"
      ]
     },
     "metadata": {},
     "output_type": "display_data"
    },
    {
     "name": "stdout",
     "output_type": "stream",
     "text": [
      "#31: H4\n"
     ]
    },
    {
     "data": {
      "image/jpeg": "[encoded data removed]",
      "text/plain": [
       "<IPython.core.display.Image object>"
      ]
     },
     "metadata": {},
     "output_type": "display_data"
    },
    {
     "name": "stdout",
     "output_type": "stream",
     "text": [
      "#49: B7\n"
     ]
    },
    {
     "data": {
      "image/jpeg": "[encoded data removed]",
      "text/plain": [
       "<IPython.core.display.Image object>"
      ]
     },
     "metadata": {},
     "output_type": "display_data"
    },
    {
     "name": "stdout",
     "output_type": "stream",
     "text": [
      "#17: B3\n"
     ]
    },
    {
     "data": {
      "image/jpeg": "[encoded data removed]",
      "text/plain": [
       "<IPython.core.display.Image object>"
      ]
     },
     "metadata": {},
     "output_type": "display_data"
    },
    {
     "name": "stdout",
     "output_type": "stream",
     "text": [
      "#52: E7\n"
     ]
    },
    {
     "data": {
      "image/jpeg": "[encoded data removed]",
      "text/plain": [
       "<IPython.core.display.Image object>"
      ]
     },
     "metadata": {},
     "output_type": "display_data"
    },
    {
     "name": "stdout",
     "output_type": "stream",
     "text": [
      "Created dir training_tiles/squares_board010\n",
      "#0: saving training_tiles/squares_board010/board010_A1.png...\n",
      "#8: saving training_tiles/squares_board010/board010_A2.png...\n",
      "#16: saving training_tiles/squares_board010/board010_A3.png...\n",
      "#24: saving training_tiles/squares_board010/board010_A4.png...\n",
      "#32: saving training_tiles/squares_board010/board010_A5.png...\n",
      "#40: saving training_tiles/squares_board010/board010_A6.png...\n",
      "#48: saving training_tiles/squares_board010/board010_A7.png...\n",
      "#56: saving training_tiles/squares_board010/board010_A8.png...\n",
      "0 80\n",
      "0 80\n",
      "0 80\n",
      "0 80\n",
      "X [ 676  756  836  916  996 1076 1156] [80 80 80 80 80 80]\n",
      "Y [273 353 433 513 593 673 753] [80 80 80 80 80 80]\n",
      "Chessboard found\n",
      "X   (vertical) [ 676  756  836  916  996 1076 1156] [80 80 80 80 80 80]\n",
      "Y (horizontal) [273 353 433 513 593 673 753] [80 80 80 80 80 80]\n",
      "7 horizontal and vertical lines found, slicing up squares\n",
      "Tiles generated: (80x80)*64\n",
      "Order is row-wise from top left of image going right and down, so a8,b8....a7,b7,c7...h1\n",
      "Showing 5 random squares...\n",
      "#40: A6\n"
     ]
    },
    {
     "data": {
      "image/jpeg": "[encoded data removed]",
      "text/plain": [
       "<IPython.core.display.Image object>"
      ]
     },
     "metadata": {},
     "output_type": "display_data"
    },
    {
     "name": "stdout",
     "output_type": "stream",
     "text": [
      "#9: B2\n"
     ]
    },
    {
     "data": {
      "image/jpeg": "[encoded data removed]",
      "text/plain": [
       "<IPython.core.display.Image object>"
      ]
     },
     "metadata": {},
     "output_type": "display_data"
    },
    {
     "name": "stdout",
     "output_type": "stream",
     "text": [
      "#18: C3\n"
     ]
    },
    {
     "data": {
      "image/jpeg": "[encoded data removed]",
      "text/plain": [
       "<IPython.core.display.Image object>"
      ]
     },
     "metadata": {},
     "output_type": "display_data"
    },
    {
     "name": "stdout",
     "output_type": "stream",
     "text": [
      "#12: E2\n"
     ]
    },
    {
     "data": {
      "image/jpeg": "[encoded data removed]",
      "text/plain": [
       "<IPython.core.display.Image object>"
      ]
     },
     "metadata": {},
     "output_type": "display_data"
    },
    {
     "name": "stdout",
     "output_type": "stream",
     "text": [
      "#29: F4\n"
     ]
    },
    {
     "data": {
      "image/jpeg": "[encoded data removed]",
      "text/plain": [
       "<IPython.core.display.Image object>"
      ]
     },
     "metadata": {},
     "output_type": "display_data"
    },
    {
     "name": "stdout",
     "output_type": "stream",
     "text": [
      "Created dir training_tiles/squares_board007\n",
      "#0: saving training_tiles/squares_board007/board007_A1.png...\n",
      "#8: saving training_tiles/squares_board007/board007_A2.png...\n",
      "#16: saving training_tiles/squares_board007/board007_A3.png...\n",
      "#24: saving training_tiles/squares_board007/board007_A4.png...\n",
      "#32: saving training_tiles/squares_board007/board007_A5.png...\n",
      "#40: saving training_tiles/squares_board007/board007_A6.png...\n",
      "#48: saving training_tiles/squares_board007/board007_A7.png...\n",
      "#56: saving training_tiles/squares_board007/board007_A8.png...\n",
      "0 80\n",
      "0 80\n",
      "0 80\n",
      "0 80\n",
      "X [ 676  756  836  916  996 1076 1156] [80 80 80 80 80 80]\n",
      "Y [273 353 433 513 593 673 753] [80 80 80 80 80 80]\n",
      "Chessboard found\n",
      "X   (vertical) [ 676  756  836  916  996 1076 1156] [80 80 80 80 80 80]\n",
      "Y (horizontal) [273 353 433 513 593 673 753] [80 80 80 80 80 80]\n",
      "7 horizontal and vertical lines found, slicing up squares\n",
      "Tiles generated: (80x80)*64\n",
      "Order is row-wise from top left of image going right and down, so a8,b8....a7,b7,c7...h1\n",
      "Showing 5 random squares...\n",
      "#44: E6\n"
     ]
    },
    {
     "data": {
      "image/jpeg": "[encoded data removed]",
      "text/plain": [
       "<IPython.core.display.Image object>"
      ]
     },
     "metadata": {},
     "output_type": "display_data"
    },
    {
     "name": "stdout",
     "output_type": "stream",
     "text": [
      "#52: E7\n"
     ]
    },
    {
     "data": {
      "image/jpeg": "[encoded data removed]",
      "text/plain": [
       "<IPython.core.display.Image object>"
      ]
     },
     "metadata": {},
     "output_type": "display_data"
    },
    {
     "name": "stdout",
     "output_type": "stream",
     "text": [
      "#20: E3\n"
     ]
    },
    {
     "data": {
      "image/jpeg": "[encoded data removed]",
      "text/plain": [
       "<IPython.core.display.Image object>"
      ]
     },
     "metadata": {},
     "output_type": "display_data"
    },
    {
     "name": "stdout",
     "output_type": "stream",
     "text": [
      "#4: E1\n"
     ]
    },
    {
     "data": {
      "image/jpeg": "[encoded data removed]",
      "text/plain": [
       "<IPython.core.display.Image object>"
      ]
     },
     "metadata": {},
     "output_type": "display_data"
    },
    {
     "name": "stdout",
     "output_type": "stream",
     "text": [
      "#23: H3\n"
     ]
    },
    {
     "data": {
      "image/jpeg": "[encoded data removed]",
      "text/plain": [
       "<IPython.core.display.Image object>"
      ]
     },
     "metadata": {},
     "output_type": "display_data"
    },
    {
     "name": "stdout",
     "output_type": "stream",
     "text": [
      "Created dir training_tiles/squares_board006\n",
      "#0: saving training_tiles/squares_board006/board006_A1.png...\n",
      "#8: saving training_tiles/squares_board006/board006_A2.png...\n",
      "#16: saving training_tiles/squares_board006/board006_A3.png...\n",
      "#24: saving training_tiles/squares_board006/board006_A4.png...\n",
      "#32: saving training_tiles/squares_board006/board006_A5.png...\n",
      "#40: saving training_tiles/squares_board006/board006_A6.png...\n",
      "#48: saving training_tiles/squares_board006/board006_A7.png...\n",
      "#56: saving training_tiles/squares_board006/board006_A8.png...\n",
      "0 80\n",
      "0 80\n",
      "0 80\n",
      "0 80\n",
      "X [ 676  756  836  916  996 1076 1156] [80 80 80 80 80 80]\n",
      "Y [273 353 433 513 593 673 753] [80 80 80 80 80 80]\n",
      "Chessboard found\n",
      "X   (vertical) [ 676  756  836  916  996 1076 1156] [80 80 80 80 80 80]\n",
      "Y (horizontal) [273 353 433 513 593 673 753] [80 80 80 80 80 80]\n",
      "7 horizontal and vertical lines found, slicing up squares\n",
      "Tiles generated: (80x80)*64\n",
      "Order is row-wise from top left of image going right and down, so a8,b8....a7,b7,c7...h1\n",
      "Showing 5 random squares...\n",
      "#18: C3\n"
     ]
    },
    {
     "data": {
      "image/jpeg": "[encoded data removed]",
      "text/plain": [
       "<IPython.core.display.Image object>"
      ]
     },
     "metadata": {},
     "output_type": "display_data"
    },
    {
     "name": "stdout",
     "output_type": "stream",
     "text": [
      "#53: F7\n"
     ]
    },
    {
     "data": {
      "image/jpeg": "[encoded data removed]",
      "text/plain": [
       "<IPython.core.display.Image object>"
      ]
     },
     "metadata": {},
     "output_type": "display_data"
    },
    {
     "name": "stdout",
     "output_type": "stream",
     "text": [
      "#32: A5\n"
     ]
    },
    {
     "data": {
      "image/jpeg": "[encoded data removed]",
      "text/plain": [
       "<IPython.core.display.Image object>"
      ]
     },
     "metadata": {},
     "output_type": "display_data"
    },
    {
     "name": "stdout",
     "output_type": "stream",
     "text": [
      "#54: G7\n"
     ]
    },
    {
     "data": {
      "image/jpeg": "[encoded data removed]",
      "text/plain": [
       "<IPython.core.display.Image object>"
      ]
     },
     "metadata": {},
     "output_type": "display_data"
    },
    {
     "name": "stdout",
     "output_type": "stream",
     "text": [
      "#33: B5\n"
     ]
    },
    {
     "data": {
      "image/jpeg": "[encoded data removed]",
      "text/plain": [
       "<IPython.core.display.Image object>"
      ]
     },
     "metadata": {},
     "output_type": "display_data"
    },
    {
     "name": "stdout",
     "output_type": "stream",
     "text": [
      "Created dir training_tiles/squares_board001\n",
      "#0: saving training_tiles/squares_board001/board001_A1.png...\n",
      "#8: saving training_tiles/squares_board001/board001_A2.png...\n",
      "#16: saving training_tiles/squares_board001/board001_A3.png...\n",
      "#24: saving training_tiles/squares_board001/board001_A4.png...\n",
      "#32: saving training_tiles/squares_board001/board001_A5.png...\n",
      "#40: saving training_tiles/squares_board001/board001_A6.png...\n",
      "#48: saving training_tiles/squares_board001/board001_A7.png...\n",
      "#56: saving training_tiles/squares_board001/board001_A8.png...\n",
      "0 80\n",
      "0 80\n",
      "0 80\n",
      "0 80\n",
      "X [ 676  756  836  916  996 1076 1156] [80 80 80 80 80 80]\n",
      "Y [273 353 433 513 593 673 753] [80 80 80 80 80 80]\n",
      "Chessboard found\n",
      "X   (vertical) [ 676  756  836  916  996 1076 1156] [80 80 80 80 80 80]\n",
      "Y (horizontal) [273 353 433 513 593 673 753] [80 80 80 80 80 80]\n",
      "7 horizontal and vertical lines found, slicing up squares\n",
      "Tiles generated: (80x80)*64\n",
      "Order is row-wise from top left of image going right and down, so a8,b8....a7,b7,c7...h1\n",
      "Showing 5 random squares...\n",
      "#4: E1\n"
     ]
    },
    {
     "data": {
      "image/jpeg": "[encoded data removed]",
      "text/plain": [
       "<IPython.core.display.Image object>"
      ]
     },
     "metadata": {},
     "output_type": "display_data"
    },
    {
     "name": "stdout",
     "output_type": "stream",
     "text": [
      "#53: F7\n"
     ]
    },
    {
     "data": {
      "image/jpeg": "[encoded data removed]",
      "text/plain": [
       "<IPython.core.display.Image object>"
      ]
     },
     "metadata": {},
     "output_type": "display_data"
    },
    {
     "name": "stdout",
     "output_type": "stream",
     "text": [
      "#13: F2\n"
     ]
    },
    {
     "data": {
      "image/jpeg": "[encoded data removed]",
      "text/plain": [
       "<IPython.core.display.Image object>"
      ]
     },
     "metadata": {},
     "output_type": "display_data"
    },
    {
     "name": "stdout",
     "output_type": "stream",
     "text": [
      "#24: A4\n"
     ]
    },
    {
     "data": {
      "image/jpeg": "[encoded data removed]",
      "text/plain": [
       "<IPython.core.display.Image object>"
      ]
     },
     "metadata": {},
     "output_type": "display_data"
    },
    {
     "name": "stdout",
     "output_type": "stream",
     "text": [
      "#18: C3\n"
     ]
    },
    {
     "data": {
      "image/jpeg": "[encoded data removed]",
      "text/plain": [
       "<IPython.core.display.Image object>"
      ]
     },
     "metadata": {},
     "output_type": "display_data"
    },
    {
     "name": "stdout",
     "output_type": "stream",
     "text": [
      "Created dir training_tiles/squares_board008\n",
      "#0: saving training_tiles/squares_board008/board008_A1.png...\n",
      "#8: saving training_tiles/squares_board008/board008_A2.png...\n",
      "#16: saving training_tiles/squares_board008/board008_A3.png...\n",
      "#24: saving training_tiles/squares_board008/board008_A4.png...\n",
      "#32: saving training_tiles/squares_board008/board008_A5.png...\n",
      "#40: saving training_tiles/squares_board008/board008_A6.png...\n",
      "#48: saving training_tiles/squares_board008/board008_A7.png...\n",
      "#56: saving training_tiles/squares_board008/board008_A8.png...\n",
      "0 102\n",
      "0 103\n",
      "2 205\n",
      "0 102\n",
      "0 103\n",
      "X [ 584  686  789  891  994 1096 1199] [102 103 102 103 102 103]\n",
      "Y [240 343 445 548 650 753 855] [103 102 103 102 103 102]\n",
      "Chessboard found\n",
      "X   (vertical) [ 584  686  789  891  994 1096 1199] [102 103 102 103 102 103]\n",
      "Y (horizontal) [240 343 445 548 650 753 855] [103 102 103 102 103 102]\n",
      "7 horizontal and vertical lines found, slicing up squares\n",
      "Tiles generated: (102x102)*64\n",
      "Order is row-wise from top left of image going right and down, so a8,b8....a7,b7,c7...h1\n",
      "Showing 5 random squares...\n",
      "#58: C8\n"
     ]
    },
    {
     "data": {
      "image/jpeg": "[encoded data removed]",
      "text/plain": [
       "<IPython.core.display.Image object>"
      ]
     },
     "metadata": {},
     "output_type": "display_data"
    },
    {
     "name": "stdout",
     "output_type": "stream",
     "text": [
      "#48: A7\n"
     ]
    },
    {
     "data": {
      "image/jpeg": "[encoded data removed]",
      "text/plain": [
       "<IPython.core.display.Image object>"
      ]
     },
     "metadata": {},
     "output_type": "display_data"
    },
    {
     "name": "stdout",
     "output_type": "stream",
     "text": [
      "#55: H7\n"
     ]
    },
    {
     "data": {
      "image/jpeg": "[encoded data removed]",
      "text/plain": [
       "<IPython.core.display.Image object>"
      ]
     },
     "metadata": {},
     "output_type": "display_data"
    },
    {
     "name": "stdout",
     "output_type": "stream",
     "text": [
      "#5: F1\n"
     ]
    },
    {
     "data": {
      "image/jpeg": "[encoded data removed]",
      "text/plain": [
       "<IPython.core.display.Image object>"
      ]
     },
     "metadata": {},
     "output_type": "display_data"
    },
    {
     "name": "stdout",
     "output_type": "stream",
     "text": [
      "#33: B5\n"
     ]
    },
    {
     "data": {
      "image/jpeg": "[encoded data removed]",
      "text/plain": [
       "<IPython.core.display.Image object>"
      ]
     },
     "metadata": {},
     "output_type": "display_data"
    },
    {
     "name": "stdout",
     "output_type": "stream",
     "text": [
      "Created dir training_tiles/squares_board011\n",
      "#0: saving training_tiles/squares_board011/board011_A1.png...\n",
      "#8: saving training_tiles/squares_board011/board011_A2.png...\n",
      "#16: saving training_tiles/squares_board011/board011_A3.png...\n",
      "#24: saving training_tiles/squares_board011/board011_A4.png...\n",
      "#32: saving training_tiles/squares_board011/board011_A5.png...\n",
      "#40: saving training_tiles/squares_board011/board011_A6.png...\n",
      "#48: saving training_tiles/squares_board011/board011_A7.png...\n",
      "#56: saving training_tiles/squares_board011/board011_A8.png...\n",
      "0 80\n",
      "0 80\n",
      "0 80\n",
      "0 80\n",
      "X [ 676  756  836  916  996 1076 1156] [80 80 80 80 80 80]\n",
      "Y [273 353 433 513 593 673 753] [80 80 80 80 80 80]\n",
      "Chessboard found\n",
      "X   (vertical) [ 676  756  836  916  996 1076 1156] [80 80 80 80 80 80]\n",
      "Y (horizontal) [273 353 433 513 593 673 753] [80 80 80 80 80 80]\n",
      "7 horizontal and vertical lines found, slicing up squares\n",
      "Tiles generated: (80x80)*64\n",
      "Order is row-wise from top left of image going right and down, so a8,b8....a7,b7,c7...h1\n",
      "Showing 5 random squares...\n",
      "#37: F5\n"
     ]
    },
    {
     "data": {
      "image/jpeg": "[encoded data removed]",
      "text/plain": [
       "<IPython.core.display.Image object>"
      ]
     },
     "metadata": {},
     "output_type": "display_data"
    },
    {
     "name": "stdout",
     "output_type": "stream",
     "text": [
      "#56: A8\n"
     ]
    },
    {
     "data": {
      "image/jpeg": "[encoded data removed]",
      "text/plain": [
       "<IPython.core.display.Image object>"
      ]
     },
     "metadata": {},
     "output_type": "display_data"
    },
    {
     "name": "stdout",
     "output_type": "stream",
     "text": [
      "#18: C3\n"
     ]
    },
    {
     "data": {
      "image/jpeg": "[encoded data removed]",
      "text/plain": [
       "<IPython.core.display.Image object>"
      ]
     },
     "metadata": {},
     "output_type": "display_data"
    },
    {
     "name": "stdout",
     "output_type": "stream",
     "text": [
      "#6: G1\n"
     ]
    },
    {
     "data": {
      "image/jpeg": "[encoded data removed]",
      "text/plain": [
       "<IPython.core.display.Image object>"
      ]
     },
     "metadata": {},
     "output_type": "display_data"
    },
    {
     "name": "stdout",
     "output_type": "stream",
     "text": [
      "#1: B1\n"
     ]
    },
    {
     "data": {
      "image/jpeg": "[encoded data removed]",
      "text/plain": [
       "<IPython.core.display.Image object>"
      ]
     },
     "metadata": {},
     "output_type": "display_data"
    },
    {
     "name": "stdout",
     "output_type": "stream",
     "text": [
      "Created dir training_tiles/squares_board009\n",
      "#0: saving training_tiles/squares_board009/board009_A1.png...\n",
      "#8: saving training_tiles/squares_board009/board009_A2.png...\n",
      "#16: saving training_tiles/squares_board009/board009_A3.png...\n",
      "#24: saving training_tiles/squares_board009/board009_A4.png...\n",
      "#32: saving training_tiles/squares_board009/board009_A5.png...\n",
      "#40: saving training_tiles/squares_board009/board009_A6.png...\n",
      "#48: saving training_tiles/squares_board009/board009_A7.png...\n",
      "#56: saving training_tiles/squares_board009/board009_A8.png...\n"
     ]
    },
    {
     "name": "stderr",
     "output_type": "stream",
     "text": [
      "/home/torque/miniconda3/lib/python3.6/site-packages/matplotlib/pyplot.py:524: RuntimeWarning: More than 20 figures have been opened. Figures created through the pyplot interface (`matplotlib.pyplot.figure`) are retained until explicitly closed and may consume too much memory. (To control this warning, see the rcParam `figure.max_open_warning`).\n",
      "  max_open_warning, RuntimeWarning)\n"
     ]
    },
    {
     "name": "stdout",
     "output_type": "stream",
     "text": [
      "0 80\n",
      "0 80\n",
      "0 80\n",
      "0 80\n",
      "X [ 676  756  836  916  996 1076 1156] [80 80 80 80 80 80]\n",
      "Y [273 353 433 513 593 673 753] [80 80 80 80 80 80]\n",
      "Chessboard found\n",
      "X   (vertical) [ 676  756  836  916  996 1076 1156] [80 80 80 80 80 80]\n",
      "Y (horizontal) [273 353 433 513 593 673 753] [80 80 80 80 80 80]\n",
      "7 horizontal and vertical lines found, slicing up squares\n",
      "Tiles generated: (80x80)*64\n",
      "Order is row-wise from top left of image going right and down, so a8,b8....a7,b7,c7...h1\n",
      "Showing 5 random squares...\n",
      "#31: H4\n"
     ]
    },
    {
     "data": {
      "image/jpeg": "[encoded data removed]",
      "text/plain": [
       "<IPython.core.display.Image object>"
      ]
     },
     "metadata": {},
     "output_type": "display_data"
    },
    {
     "name": "stdout",
     "output_type": "stream",
     "text": [
      "#13: F2\n"
     ]
    },
    {
     "data": {
      "image/jpeg": "[encoded data removed]",
      "text/plain": [
       "<IPython.core.display.Image object>"
      ]
     },
     "metadata": {},
     "output_type": "display_data"
    },
    {
     "name": "stdout",
     "output_type": "stream",
     "text": [
      "#46: G6\n"
     ]
    },
    {
     "data": {
      "image/jpeg": "[encoded data removed]",
      "text/plain": [
       "<IPython.core.display.Image object>"
      ]
     },
     "metadata": {},
     "output_type": "display_data"
    },
    {
     "name": "stdout",
     "output_type": "stream",
     "text": [
      "#41: B6\n"
     ]
    },
    {
     "data": {
      "image/jpeg": "[encoded data removed]",
      "text/plain": [
       "<IPython.core.display.Image object>"
      ]
     },
     "metadata": {},
     "output_type": "display_data"
    },
    {
     "name": "stdout",
     "output_type": "stream",
     "text": [
      "#45: F6\n"
     ]
    },
    {
     "data": {
      "image/jpeg": "[encoded data removed]",
      "text/plain": [
       "<IPython.core.display.Image object>"
      ]
     },
     "metadata": {},
     "output_type": "display_data"
    },
    {
     "name": "stdout",
     "output_type": "stream",
     "text": [
      "Created dir training_tiles/squares_board003\n",
      "#0: saving training_tiles/squares_board003/board003_A1.png...\n",
      "#8: saving training_tiles/squares_board003/board003_A2.png...\n",
      "#16: saving training_tiles/squares_board003/board003_A3.png...\n",
      "#24: saving training_tiles/squares_board003/board003_A4.png...\n",
      "#32: saving training_tiles/squares_board003/board003_A5.png...\n",
      "#40: saving training_tiles/squares_board003/board003_A6.png...\n",
      "#48: saving training_tiles/squares_board003/board003_A7.png...\n",
      "#56: saving training_tiles/squares_board003/board003_A8.png...\n",
      "0 80\n",
      "0 80\n",
      "0 80\n",
      "0 80\n",
      "X [ 676  756  836  916  996 1076 1156] [80 80 80 80 80 80]\n",
      "Y [273 353 433 513 593 673 753] [80 80 80 80 80 80]\n",
      "Chessboard found\n",
      "X   (vertical) [ 676  756  836  916  996 1076 1156] [80 80 80 80 80 80]\n",
      "Y (horizontal) [273 353 433 513 593 673 753] [80 80 80 80 80 80]\n",
      "7 horizontal and vertical lines found, slicing up squares\n",
      "Tiles generated: (80x80)*64\n",
      "Order is row-wise from top left of image going right and down, so a8,b8....a7,b7,c7...h1\n",
      "Showing 5 random squares...\n",
      "#11: D2\n"
     ]
    },
    {
     "data": {
      "image/jpeg": "[encoded data removed]",
      "text/plain": [
       "<IPython.core.display.Image object>"
      ]
     },
     "metadata": {},
     "output_type": "display_data"
    },
    {
     "name": "stdout",
     "output_type": "stream",
     "text": [
      "#19: D3\n"
     ]
    },
    {
     "data": {
      "image/jpeg": "[encoded data removed]",
      "text/plain": [
       "<IPython.core.display.Image object>"
      ]
     },
     "metadata": {},
     "output_type": "display_data"
    },
    {
     "name": "stdout",
     "output_type": "stream",
     "text": [
      "#16: A3\n"
     ]
    },
    {
     "data": {
      "image/jpeg": "[encoded data removed]",
      "text/plain": [
       "<IPython.core.display.Image object>"
      ]
     },
     "metadata": {},
     "output_type": "display_data"
    },
    {
     "name": "stdout",
     "output_type": "stream",
     "text": [
      "#50: C7\n"
     ]
    },
    {
     "data": {
      "image/jpeg": "[encoded data removed]",
      "text/plain": [
       "<IPython.core.display.Image object>"
      ]
     },
     "metadata": {},
     "output_type": "display_data"
    },
    {
     "name": "stdout",
     "output_type": "stream",
     "text": [
      "#41: B6\n"
     ]
    },
    {
     "data": {
      "image/jpeg": "[encoded data removed]",
      "text/plain": [
       "<IPython.core.display.Image object>"
      ]
     },
     "metadata": {},
     "output_type": "display_data"
    },
    {
     "name": "stdout",
     "output_type": "stream",
     "text": [
      "Created dir testing_tiles/squares_board004\n",
      "#0: saving testing_tiles/squares_board004/board004_A1.png...\n",
      "#8: saving testing_tiles/squares_board004/board004_A2.png...\n",
      "#16: saving testing_tiles/squares_board004/board004_A3.png...\n",
      "#24: saving testing_tiles/squares_board004/board004_A4.png...\n",
      "#32: saving testing_tiles/squares_board004/board004_A5.png...\n",
      "#40: saving testing_tiles/squares_board004/board004_A6.png...\n",
      "#48: saving testing_tiles/squares_board004/board004_A7.png...\n",
      "#56: saving testing_tiles/squares_board004/board004_A8.png...\n",
      "0 44\n",
      "0 44\n",
      "0 44\n",
      "0 44\n",
      "5 39\n",
      "X [113 157 201 245 288 332] [44 44 44 43 44]\n",
      "Y [ 67 111 155 199 243 287 326 367] [44 44 44 44 44 39 41]\n",
      "Couldn't find Chessboard\n",
      "X   (vertical) [113 157 201 245 288 332] [44 44 44 43 44]\n",
      "Y (horizontal) [ 67 111 155 199 243 287 326 367] [44 44 44 44 44 39 41]\n",
      "Number of lines not equal to 7\n",
      "Didn't have lines to slice image up.\n",
      "No squares to save\n",
      "0 80\n",
      "0 80\n",
      "0 80\n",
      "0 80\n",
      "X [ 676  756  836  916  996 1076 1156] [80 80 80 80 80 80]\n",
      "Y [273 353 433 513 593 673 753] [80 80 80 80 80 80]\n",
      "Chessboard found\n",
      "X   (vertical) [ 676  756  836  916  996 1076 1156] [80 80 80 80 80 80]\n",
      "Y (horizontal) [273 353 433 513 593 673 753] [80 80 80 80 80 80]\n",
      "7 horizontal and vertical lines found, slicing up squares\n",
      "Tiles generated: (80x80)*64\n",
      "Order is row-wise from top left of image going right and down, so a8,b8....a7,b7,c7...h1\n",
      "Showing 5 random squares...\n",
      "#2: C1\n"
     ]
    },
    {
     "data": {
      "image/jpeg": "[encoded data removed]",
      "text/plain": [
       "<IPython.core.display.Image object>"
      ]
     },
     "metadata": {},
     "output_type": "display_data"
    },
    {
     "name": "stdout",
     "output_type": "stream",
     "text": [
      "#27: D4\n"
     ]
    },
    {
     "data": {
      "image/jpeg": "[encoded data removed]",
      "text/plain": [
       "<IPython.core.display.Image object>"
      ]
     },
     "metadata": {},
     "output_type": "display_data"
    },
    {
     "name": "stdout",
     "output_type": "stream",
     "text": [
      "#12: E2\n"
     ]
    },
    {
     "data": {
      "image/jpeg": "[encoded data removed]",
      "text/plain": [
       "<IPython.core.display.Image object>"
      ]
     },
     "metadata": {},
     "output_type": "display_data"
    },
    {
     "name": "stdout",
     "output_type": "stream",
     "text": [
      "#50: C7\n"
     ]
    },
    {
     "data": {
      "image/jpeg": "[encoded data removed]",
      "text/plain": [
       "<IPython.core.display.Image object>"
      ]
     },
     "metadata": {},
     "output_type": "display_data"
    },
    {
     "name": "stdout",
     "output_type": "stream",
     "text": [
      "#51: D7\n"
     ]
    },
    {
     "data": {
      "image/jpeg": "[encoded data removed]",
      "text/plain": [
       "<IPython.core.display.Image object>"
      ]
     },
     "metadata": {},
     "output_type": "display_data"
    },
    {
     "name": "stdout",
     "output_type": "stream",
     "text": [
      "Created dir testing_tiles/squares_board002\n",
      "#0: saving testing_tiles/squares_board002/board002_A1.png...\n",
      "#8: saving testing_tiles/squares_board002/board002_A2.png...\n",
      "#16: saving testing_tiles/squares_board002/board002_A3.png...\n",
      "#24: saving testing_tiles/squares_board002/board002_A4.png...\n",
      "#32: saving testing_tiles/squares_board002/board002_A5.png...\n",
      "#40: saving testing_tiles/squares_board002/board002_A6.png...\n",
      "#48: saving testing_tiles/squares_board002/board002_A7.png...\n",
      "#56: saving testing_tiles/squares_board002/board002_A8.png...\n",
      "0 50\n",
      "0 50\n",
      "0 50\n",
      "0 50\n",
      "X [111 161 211 261 311 361 411] [50 50 50 50 50 50]\n",
      "Y [140 190 240 290 340 390 439] [50 50 50 50 50 49]\n",
      "Chessboard found\n",
      "X   (vertical) [111 161 211 261 311 361 411] [50 50 50 50 50 50]\n",
      "Y (horizontal) [140 190 240 290 340 390 439] [50 50 50 50 50 49]\n",
      "7 horizontal and vertical lines found, slicing up squares\n",
      "Tiles generated: (50x50)*64\n",
      "Order is row-wise from top left of image going right and down, so a8,b8....a7,b7,c7...h1\n",
      "Showing 5 random squares...\n",
      "#13: F2\n"
     ]
    },
    {
     "data": {
      "image/jpeg": "[encoded data removed]",
      "text/plain": [
       "<IPython.core.display.Image object>"
      ]
     },
     "metadata": {},
     "output_type": "display_data"
    },
    {
     "name": "stdout",
     "output_type": "stream",
     "text": [
      "#31: H4\n"
     ]
    },
    {
     "data": {
      "image/jpeg": "[encoded data removed]",
      "text/plain": [
       "<IPython.core.display.Image object>"
      ]
     },
     "metadata": {},
     "output_type": "display_data"
    },
    {
     "name": "stdout",
     "output_type": "stream",
     "text": [
      "#24: A4\n"
     ]
    },
    {
     "data": {
      "image/jpeg": "[encoded data removed]",
      "text/plain": [
       "<IPython.core.display.Image object>"
      ]
     },
     "metadata": {},
     "output_type": "display_data"
    },
    {
     "name": "stdout",
     "output_type": "stream",
     "text": [
      "#17: B3\n"
     ]
    },
    {
     "data": {
      "image/jpeg": "[encoded data removed]",
      "text/plain": [
       "<IPython.core.display.Image object>"
      ]
     },
     "metadata": {},
     "output_type": "display_data"
    },
    {
     "name": "stdout",
     "output_type": "stream",
     "text": [
      "#4: E1\n"
     ]
    },
    {
     "data": {
      "image/jpeg": "[encoded data removed]",
      "text/plain": [
       "<IPython.core.display.Image object>"
      ]
     },
     "metadata": {},
     "output_type": "display_data"
    },
    {
     "name": "stdout",
     "output_type": "stream",
     "text": [
      "Created dir testing_tiles/squares_board001\n",
      "#0: saving testing_tiles/squares_board001/board001_A1.png...\n",
      "#8: saving testing_tiles/squares_board001/board001_A2.png...\n",
      "#16: saving testing_tiles/squares_board001/board001_A3.png...\n",
      "#24: saving testing_tiles/squares_board001/board001_A4.png...\n",
      "#32: saving testing_tiles/squares_board001/board001_A5.png...\n",
      "#40: saving testing_tiles/squares_board001/board001_A6.png...\n",
      "#48: saving testing_tiles/squares_board001/board001_A7.png...\n",
      "#56: saving testing_tiles/squares_board001/board001_A8.png...\n",
      "0 61\n",
      "0 61\n",
      "0 61\n",
      "0 61\n",
      "X [181 242 303 365 426 487 548] [61 61 62 61 61 61]\n",
      "Y [132 193 254 315 377 438 499] [61 61 61 62 61 61]\n",
      "Chessboard found\n",
      "X   (vertical) [181 242 303 365 426 487 548] [61 61 62 61 61 61]\n",
      "Y (horizontal) [132 193 254 315 377 438 499] [61 61 61 62 61 61]\n",
      "7 horizontal and vertical lines found, slicing up squares\n",
      "Tiles generated: (61x61)*64\n",
      "Order is row-wise from top left of image going right and down, so a8,b8....a7,b7,c7...h1\n",
      "Showing 5 random squares...\n",
      "#5: F1\n"
     ]
    },
    {
     "data": {
      "image/jpeg": "[encoded data removed]",
      "text/plain": [
       "<IPython.core.display.Image object>"
      ]
     },
     "metadata": {},
     "output_type": "display_data"
    },
    {
     "name": "stdout",
     "output_type": "stream",
     "text": [
      "#20: E3\n"
     ]
    },
    {
     "data": {
      "image/jpeg": "[encoded data removed]",
      "text/plain": [
       "<IPython.core.display.Image object>"
      ]
     },
     "metadata": {},
     "output_type": "display_data"
    },
    {
     "name": "stdout",
     "output_type": "stream",
     "text": [
      "#46: G6\n"
     ]
    },
    {
     "data": {
      "image/jpeg": "[encoded data removed]",
      "text/plain": [
       "<IPython.core.display.Image object>"
      ]
     },
     "metadata": {},
     "output_type": "display_data"
    },
    {
     "name": "stdout",
     "output_type": "stream",
     "text": [
      "#50: C7\n"
     ]
    },
    {
     "data": {
      "image/jpeg": "[encoded data removed]",
      "text/plain": [
       "<IPython.core.display.Image object>"
      ]
     },
     "metadata": {},
     "output_type": "display_data"
    },
    {
     "name": "stdout",
     "output_type": "stream",
     "text": [
      "#57: B8\n"
     ]
    },
    {
     "data": {
      "image/jpeg": "[encoded data removed]",
      "text/plain": [
       "<IPython.core.display.Image object>"
      ]
     },
     "metadata": {},
     "output_type": "display_data"
    },
    {
     "name": "stdout",
     "output_type": "stream",
     "text": [
      "Created dir testing_tiles/squares_board003\n",
      "#0: saving testing_tiles/squares_board003/board003_A1.png...\n",
      "#8: saving testing_tiles/squares_board003/board003_A2.png...\n",
      "#16: saving testing_tiles/squares_board003/board003_A3.png...\n",
      "#24: saving testing_tiles/squares_board003/board003_A4.png...\n",
      "#32: saving testing_tiles/squares_board003/board003_A5.png...\n",
      "#40: saving testing_tiles/squares_board003/board003_A6.png...\n",
      "#48: saving testing_tiles/squares_board003/board003_A7.png...\n",
      "#56: saving testing_tiles/squares_board003/board003_A8.png...\n"
     ]
    }
   ],
   "source": [
    "import chess_board_recognizer\n",
    "import os\n",
    "import dataset_organizer\n",
    "\n",
    "# Generating tiles for training\n",
    "for image_name in os.listdir(\"training_chessboards\"):\n",
    "    chess_board_recognizer.generateTileset(image_name, \"training_chessboards\", \"training_tiles\")\n",
    "dataset_organizer.organize(\"train_data\", \"training_tiles\")\n",
    "\n",
    "# Generating tiles for testing\n",
    "for image_name in os.listdir(\"testing_chessboards\"):\n",
    "    chess_board_recognizer.generateTileset(image_name, \"testing_chessboards\", \"testing_tiles\")\n",
    "dataset_organizer.organize(\"test_data\", \"testing_tiles\")\n"
   ]
  }
 ],
 "metadata": {
  "kernelspec": {
   "display_name": "Python 3",
   "language": "python",
   "name": "python3"
  },
  "language_info": {
   "codemirror_mode": {
    "name": "ipython",
    "version": 3
   },
   "file_extension": ".py",
   "mimetype": "text/x-python",
   "name": "python",
   "nbconvert_exporter": "python",
   "pygments_lexer": "ipython3",
   "version": "3.6.0"
  }
 },
 "nbformat": 4,
 "nbformat_minor": 2
}
